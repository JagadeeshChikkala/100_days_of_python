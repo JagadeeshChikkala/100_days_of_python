{
 "cells": [
  {
   "cell_type": "code",
   "execution_count": 1,
   "id": "8bf26bf7",
   "metadata": {},
   "outputs": [
    {
     "name": "stdout",
     "output_type": "stream",
     "text": [
      "hellojaggu\n"
     ]
    }
   ],
   "source": [
    "print(\"hello\" + \"jaggu\")"
   ]
  },
  {
   "cell_type": "code",
   "execution_count": 2,
   "id": "ab0a3093",
   "metadata": {},
   "outputs": [
    {
     "name": "stdout",
     "output_type": "stream",
     "text": [
      "hello\tjaggu\n"
     ]
    }
   ],
   "source": [
    "# adding tabspaces\n",
    "print(\"hello\\t\" + \"jaggu\")"
   ]
  },
  {
   "cell_type": "code",
   "execution_count": 3,
   "id": "8cdb0893",
   "metadata": {},
   "outputs": [
    {
     "name": "stdout",
     "output_type": "stream",
     "text": [
      "hello\n",
      "jagadeesh\n"
     ]
    }
   ],
   "source": [
    "print(\"hello\\n\"+\"jagadeesh\")"
   ]
  },
  {
   "cell_type": "code",
   "execution_count": 4,
   "id": "237bcaaf",
   "metadata": {},
   "outputs": [
    {
     "name": "stdout",
     "output_type": "stream",
     "text": [
      "hello jagadeesh\n"
     ]
    }
   ],
   "source": [
    "print(\"hello\" + \" \" +  \"jagadeesh\")"
   ]
  },
  {
   "cell_type": "markdown",
   "id": "016aceff",
   "metadata": {},
   "source": [
    "## input function"
   ]
  },
  {
   "cell_type": "code",
   "execution_count": 8,
   "id": "ea6c9051",
   "metadata": {},
   "outputs": [
    {
     "name": "stdout",
     "output_type": "stream",
     "text": [
      "What is your name? jagadeesh\n",
      "length of your name is 9\n"
     ]
    }
   ],
   "source": [
    "\n",
    "print(\"length of your name is \"+str(len(input(\"What is your name? \"))))"
   ]
  },
  {
   "cell_type": "markdown",
   "id": "cd76fe40",
   "metadata": {},
   "source": [
    "## assiging receaved value from user to variable"
   ]
  },
  {
   "cell_type": "code",
   "execution_count": 9,
   "id": "d50bdd93",
   "metadata": {},
   "outputs": [
    {
     "name": "stdout",
     "output_type": "stream",
     "text": [
      "What is your name? raju\n"
     ]
    }
   ],
   "source": [
    "\n",
    "my_first_input=\"length of your name is \"+str(len(input(\"What is your name? \")))"
   ]
  },
  {
   "cell_type": "code",
   "execution_count": 10,
   "id": "57617ac1",
   "metadata": {},
   "outputs": [
    {
     "name": "stdout",
     "output_type": "stream",
     "text": [
      "length of your name is 4\n"
     ]
    }
   ],
   "source": [
    "print(my_first_input)"
   ]
  },
  {
   "cell_type": "markdown",
   "id": "1f654c15",
   "metadata": {},
   "source": [
    "### switching variables"
   ]
  },
  {
   "cell_type": "code",
   "execution_count": 12,
   "id": "7c15bedb",
   "metadata": {},
   "outputs": [
    {
     "name": "stdout",
     "output_type": "stream",
     "text": [
      "a: 5\n",
      "b: 6\n",
      "a: 6\n",
      "b: 5\n"
     ]
    }
   ],
   "source": [
    "# 🚨 Don't change the code below 👇\n",
    "a = input(\"a: \")\n",
    "b = input(\"b: \")\n",
    "# 🚨 Don't change the code above 👆\n",
    "\n",
    "####################################\n",
    "#Write your code below this line 👇\n",
    "c=a\n",
    "a=b\n",
    "b=c\n",
    "\n",
    "\n",
    "\n",
    "#Write your code above this line 👆\n",
    "####################################\n",
    "\n",
    "# 🚨 Don't change the code below 👇\n",
    "print(\"a: \" + a)\n",
    "print(\"b: \" + b)\n"
   ]
  },
  {
   "cell_type": "code",
   "execution_count": 13,
   "id": "e5f7e142",
   "metadata": {},
   "outputs": [
    {
     "name": "stdout",
     "output_type": "stream",
     "text": [
      "What's name of city you grown up in?\n",
      "someswaram\n",
      "What's your pet's name?\n",
      "black dragon\n",
      "Your band name can be someswaram black dragon\n"
     ]
    }
   ],
   "source": [
    "#1. Create a greeting for your program.\n",
    "\n",
    "#2. Ask the user for the city that they grew up in.\n",
    "\n",
    "#3. Ask the user for the name of a pet.\n",
    "\n",
    "#4. Combine the name of their city and pet and show them their band name.\n",
    "\n",
    "#5. Make sure the input cursor shows on a new line:\n",
    "\n",
    "# Solution: https://replit.com/@appbrewery/band-name-generator-end\n",
    "#Go to: https://replit.com/@appbrewery/band-name-generator-start?v=1\n",
    "city=input(\"What's name of city you grown up in?\\n\")\n",
    "pet_name=input(\"What's your pet's name?\\n\")\n",
    "print(\"Your band name can be \"+city+\" \"+pet_name)"
   ]
  },
  {
   "cell_type": "code",
   "execution_count": null,
   "id": "4a292064",
   "metadata": {},
   "outputs": [],
   "source": []
  }
 ],
 "metadata": {
  "kernelspec": {
   "display_name": "Python 3 (ipykernel)",
   "language": "python",
   "name": "python3"
  },
  "language_info": {
   "codemirror_mode": {
    "name": "ipython",
    "version": 3
   },
   "file_extension": ".py",
   "mimetype": "text/x-python",
   "name": "python",
   "nbconvert_exporter": "python",
   "pygments_lexer": "ipython3",
   "version": "3.11.1"
  }
 },
 "nbformat": 4,
 "nbformat_minor": 5
}
